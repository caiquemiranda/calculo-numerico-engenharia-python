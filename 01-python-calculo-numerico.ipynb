{
 "cells": [
  {
   "attachments": {},
   "cell_type": "markdown",
   "metadata": {},
   "source": [
    "### Python para cálculo numerico"
   ]
  },
  {
   "attachments": {},
   "cell_type": "markdown",
   "metadata": {},
   "source": [
    "#### Numpy"
   ]
  },
  {
   "attachments": {},
   "cell_type": "markdown",
   "metadata": {},
   "source": [
    "biblioteca Numpy é a base da maior parte dos algoritmos utilizados nesses estudos"
   ]
  },
  {
   "attachments": {},
   "cell_type": "markdown",
   "metadata": {},
   "source": [
    "##### Arrays"
   ]
  },
  {
   "cell_type": "code",
   "execution_count": 1,
   "metadata": {},
   "outputs": [
    {
     "name": "stdout",
     "output_type": "stream",
     "text": [
      "[[ 84  90  96]\n",
      " [201 216 231]\n",
      " [318 342 366]]\n"
     ]
    }
   ],
   "source": [
    "# importação Numpy para calculos numericos\n",
    "import numpy as np\n",
    "\n",
    "A = np.array( [[1, 2, 3],\n",
    "               [4, 5, 6],\n",
    "               [7, 8, 9]])\n",
    "\n",
    "B = np.array([[10, 11, 12],\n",
    "              [13, 14, 15],\n",
    "              [16, 17, 18]])\n",
    "\n",
    "# operação entre matrizes, outra opção é numpy.dot()\n",
    "C = A@B\n",
    "\n",
    "# visualização da matriz resultado\n",
    "print(C)"
   ]
  },
  {
   "attachments": {},
   "cell_type": "markdown",
   "metadata": {},
   "source": [
    "##### Manipulações e funções internas"
   ]
  },
  {
   "cell_type": "code",
   "execution_count": 2,
   "metadata": {},
   "outputs": [
    {
     "name": "stdout",
     "output_type": "stream",
     "text": [
      "[ 0  1  2  3  4  5  6  7  8  9 10 11 12 13 14]\n"
     ]
    }
   ],
   "source": [
    "# um range de valores do 0-14\n",
    "a = np.arange(15)\n",
    "\n",
    "print(a)"
   ]
  },
  {
   "cell_type": "code",
   "execution_count": 3,
   "metadata": {},
   "outputs": [
    {
     "name": "stdout",
     "output_type": "stream",
     "text": [
      "[ 0  1  2  3  4  5  6  7  8  9 10 11 12 13 14]\n",
      "[[ 0  1  2  3  4]\n",
      " [ 5  6  7  8  9]\n",
      " [10 11 12 13 14]]\n"
     ]
    }
   ],
   "source": [
    "# array 1, 15\n",
    "a = np.arange(15)\n",
    "print(a)\n",
    "\n",
    "# array 3 linhas, 5 colunas\n",
    "a = a.reshape(3, 5)\n",
    "print(a)"
   ]
  },
  {
   "cell_type": "code",
   "execution_count": 4,
   "metadata": {},
   "outputs": [
    {
     "name": "stdout",
     "output_type": "stream",
     "text": [
      "[[ 0  1  2  3]\n",
      " [ 4  5  6  7]\n",
      " [ 8  9 10 11]\n",
      " [12 13 14 15]\n",
      " [16 17 18 19]\n",
      " [20 21 22 23]\n",
      " [24 25 26 27]\n",
      " [28 29 30 31]\n",
      " [32 33 34 35]\n",
      " [36 37 38 39]\n",
      " [40 41 42 43]\n",
      " [44 45 46 47]\n",
      " [48 49 50 51]\n",
      " [52 53 54 55]\n",
      " [56 57 58 59]\n",
      " [60 61 62 63]]\n",
      "(16, 4)\n",
      "64\n",
      "16\n"
     ]
    }
   ],
   "source": [
    "a = np.arange(64)\n",
    "a = a.reshape(16, 4)\n",
    "\n",
    "print(a)\n",
    "\n",
    "# formato 16 linhas, 4 colunas\n",
    "print(a.shape)\n",
    "\n",
    "# quantidade de valores\n",
    "print(a.size)\n",
    "\n",
    "# quantidade de linhas\n",
    "print(len(a))"
   ]
  },
  {
   "cell_type": "code",
   "execution_count": 5,
   "metadata": {},
   "outputs": [
    {
     "name": "stdout",
     "output_type": "stream",
     "text": [
      "a =\n",
      " [ 0  1  2  3  4  5  6  7  8  9 10 11 12 13 14]\n",
      "a =\n",
      " [[ 0  1  2  3  4]\n",
      " [ 5  6  7  8  9]\n",
      " [10 11 12 13 14]]\n",
      "b =\\ [[ 8  9]\n",
      " [13 14]]\n"
     ]
    }
   ],
   "source": [
    "a = np.arange(15)\n",
    "print(f'a =\\n {a}')\n",
    "\n",
    "# usamos o \\n para quebra de linha\n",
    "a = a.reshape(3, 5)\n",
    "print(f'a =\\n {a}')\n",
    "\n",
    "# f-strings facilita a formação\n",
    "b = a[1:3, 3:5]\n",
    "print(f'b =\\ {b}')"
   ]
  },
  {
   "attachments": {},
   "cell_type": "markdown",
   "metadata": {},
   "source": [
    "#### Matplotlib"
   ]
  },
  {
   "attachments": {},
   "cell_type": "markdown",
   "metadata": {},
   "source": [
    "##### Plotagem 2D"
   ]
  },
  {
   "cell_type": "code",
   "execution_count": 10,
   "metadata": {},
   "outputs": [
    {
     "data": {
      "image/png": "[encoded data removed]",
      "text/plain": [
       "<Figure size 432x288 with 1 Axes>"
      ]
     },
     "metadata": {
      "needs_background": "light"
     },
     "output_type": "display_data"
    },
    {
     "name": "stdout",
     "output_type": "stream",
     "text": [
      "x = \n",
      "[-3.14159265 -2.95679309 -2.77199352 -2.58719395 -2.40239438 -2.21759481\n",
      " -2.03279525 -1.84799568 -1.66319611 -1.47839654 -1.29359698 -1.10879741\n",
      " -0.92399784 -0.73919827 -0.5543987  -0.36959914 -0.18479957  0.\n",
      "  0.18479957  0.36959914  0.5543987   0.73919827  0.92399784  1.10879741\n",
      "  1.29359698  1.47839654  1.66319611  1.84799568  2.03279525  2.21759481\n",
      "  2.40239438  2.58719395  2.77199352  2.95679309  3.14159265] \n",
      "y_sen =\n",
      "[-1.22464680e-16 -1.83749518e-01 -3.61241666e-01 -5.26432163e-01\n",
      " -6.73695644e-01 -7.98017227e-01 -8.95163291e-01 -9.61825643e-01\n",
      " -9.95734176e-01 -9.95734176e-01 -9.61825643e-01 -8.95163291e-01\n",
      " -7.98017227e-01 -6.73695644e-01 -5.26432163e-01 -3.61241666e-01\n",
      " -1.83749518e-01  0.00000000e+00  1.83749518e-01  3.61241666e-01\n",
      "  5.26432163e-01  6.73695644e-01  7.98017227e-01  8.95163291e-01\n",
      "  9.61825643e-01  9.95734176e-01  9.95734176e-01  9.61825643e-01\n",
      "  8.95163291e-01  7.98017227e-01  6.73695644e-01  5.26432163e-01\n",
      "  3.61241666e-01  1.83749518e-01  1.22464680e-16] \n",
      "y_cos =\n",
      " [-1.         -0.9829731  -0.93247223 -0.85021714 -0.73900892 -0.60263464\n",
      " -0.44573836 -0.27366299 -0.09226836  0.09226836  0.27366299  0.44573836\n",
      "  0.60263464  0.73900892  0.85021714  0.93247223  0.9829731   1.\n",
      "  0.9829731   0.93247223  0.85021714  0.73900892  0.60263464  0.44573836\n",
      "  0.27366299  0.09226836 -0.09226836 -0.27366299 -0.44573836 -0.60263464\n",
      " -0.73900892 -0.85021714 -0.93247223 -0.9829731  -1.        ]\n"
     ]
    }
   ],
   "source": [
    "import numpy as np\n",
    "import matplotlib.pyplot as plt\n",
    "\n",
    "# 35 valores entre - pi e p\n",
    "x = np.linspace(-np.pi, np.pi, 35)\n",
    "\n",
    "# array senos dos valores e x\n",
    "y_sen = np.sin(x)\n",
    "\n",
    "# array cosseno dos valores\n",
    "y_cos = np.cos(x)\n",
    "\n",
    "plt.plot(x, y_sen, label= 'seno')\n",
    "plt.plot(x, y_cos, label= 'cosseno')\n",
    "\n",
    "plt.xlim(-np.pi, np.pi)\n",
    "plt.xlabel('Ângulo [rad]')\n",
    "plt.ylabel('Função trigonométrica(x)')\n",
    "\n",
    "plt.grid(True)\n",
    "plt.legend()\n",
    "plt.show();\n",
    "\n",
    "print(f'x = \\n{x} ')\n",
    "print(f'y_sen =\\n{y_sen} ')\n",
    "print(f'y_cos =\\n {y_cos}')"
   ]
  },
  {
   "cell_type": "code",
   "execution_count": 11,
   "metadata": {},
   "outputs": [
    {
     "data": {
      "image/png": "[encoded data removed]",
      "text/plain": [
       "<Figure size 432x288 with 2 Axes>"
      ]
     },
     "metadata": {
      "needs_background": "light"
     },
     "output_type": "display_data"
    }
   ],
   "source": [
    "x = np.linspace(-np.pi, np.pi, 35)\n",
    "\n",
    "y_sen = np.sin(x)\n",
    "y_cos = np.cos(x)\n",
    "\n",
    "fig, (ax1, ax2) = plt.subplots(2)\n",
    "\n",
    "ax1.grid(True)\n",
    "ax1.plot(x, y_sen)\n",
    "ax1.set(title= 'Funções Trigonométricas', ylabel= 'sen(x)')\n",
    "ax1.set_xlim(-np.pi, np.pi)\n",
    "\n",
    "ax2.grid(True)\n",
    "ax2.plot(x, y_cos, color= 'orange')\n",
    "ax2.set(xlabel= 'Ângulo [rad]', ylabel= 'cos(x)')\n",
    "ax2.set_xlim(-np.pi, np.pi)\n",
    "\n",
    "plt.show();"
   ]
  },
  {
   "attachments": {},
   "cell_type": "markdown",
   "metadata": {},
   "source": [
    "#### Plotagem 3D"
   ]
  },
  {
   "cell_type": "code",
   "execution_count": null,
   "metadata": {},
   "outputs": [],
   "source": []
  },
  {
   "cell_type": "code",
   "execution_count": null,
   "metadata": {},
   "outputs": [],
   "source": []
  },
  {
   "cell_type": "code",
   "execution_count": null,
   "metadata": {},
   "outputs": [],
   "source": []
  },
  {
   "attachments": {},
   "cell_type": "markdown",
   "metadata": {},
   "source": [
    "#### Scipy"
   ]
  },
  {
   "cell_type": "code",
   "execution_count": null,
   "metadata": {},
   "outputs": [],
   "source": []
  },
  {
   "attachments": {},
   "cell_type": "markdown",
   "metadata": {},
   "source": [
    "### FIM."
   ]
  },
  {
   "cell_type": "markdown",
   "metadata": {},
   "source": []
  }
 ],
 "metadata": {
  "kernelspec": {
   "display_name": "Python 3",
   "language": "python",
   "name": "python3"
  },
  "language_info": {
   "codemirror_mode": {
    "name": "ipython",
    "version": 3
   },
   "file_extension": ".py",
   "mimetype": "text/x-python",
   "name": "python",
   "nbconvert_exporter": "python",
   "pygments_lexer": "ipython3",
   "version": "3.10.5"
  },
  "orig_nbformat": 4,
  "vscode": {
   "interpreter": {
    "hash": "74af3d2f25f1e46ebd2903d59225d79e4675ec224d56c01fc30cd168c2010d53"
   }
  }
 },
 "nbformat": 4,
 "nbformat_minor": 2
}
